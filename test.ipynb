{
 "cells": [
  {
   "cell_type": "code",
   "execution_count": 3,
   "metadata": {},
   "outputs": [],
   "source": [
    "import requests\n",
    "from binance.spot import Spot\n",
    "from datetime import datetime, timedelta \n",
    "import pandas as pd\n",
    "from tqdm import tqdm"
   ]
  },
  {
   "cell_type": "code",
   "execution_count": 3,
   "metadata": {},
   "outputs": [
    {
     "name": "stdout",
     "output_type": "stream",
     "text": [
      "Количество: 2145\n"
     ]
    }
   ],
   "source": [
    "pairs_info = requests.get('https://api.binance.com/api/v3/exchangeInfo').json()\n",
    "\n",
    "symbols = set()\n",
    "\n",
    "for i in range(len(pairs_info['symbols'])):\n",
    "    symbols.add(pairs_info['symbols'][i]['symbol'])\n",
    "\n",
    "print('Количество:', len(symbols))\n"
   ]
  },
  {
   "cell_type": "code",
   "execution_count": null,
   "metadata": {},
   "outputs": [],
   "source": [
    "start_time_poins = [1612126800000] # 1612126800000 is 2021-02-01 00:00:00 in Date from milliseconds (ms) since timestamp or unix epoch format\n",
    "for i in range(1, 18):\n",
    "    start_time_poins.append(int((datetime.strptime('2021-02-01 00:00:00', '%Y-%m-%d %H:%M:%S') + timedelta(hours=i*1001)).timestamp() * 1000))"
   ]
  },
  {
   "cell_type": "code",
   "execution_count": null,
   "metadata": {},
   "outputs": [],
   "source": [
    "client = Spot()"
   ]
  },
  {
   "cell_type": "code",
   "execution_count": null,
   "metadata": {},
   "outputs": [],
   "source": [
    "data_frame_columns=['Open time', 'Open', 'High', 'Low', \n",
    "                    'Close', 'Volume', 'Close time',\n",
    "                    'Quote asset volume', 'Number of trades', \n",
    "                    'Taker buy base asset volume', \n",
    "                    'Taker buy quote asset volume', 'Ignore']"
   ]
  },
  {
   "cell_type": "code",
   "execution_count": null,
   "metadata": {},
   "outputs": [],
   "source": [
    "for symbol in tqdm(symbols):\n",
    "    result = []\n",
    "    for start_time_point in start_time_poins:\n",
    "        result.extend(client.klines(symbol, \"1h\", limit=1000, startTime = start_time_point))\n",
    "    df = pd.DataFrame(result, columns=data_frame_columns)\n",
    "    df['Open time'] = pd.to_datetime(df['Open time'], unit='ms')\n",
    "    df['Close time'] = pd.to_datetime(df['Close time'], unit='ms')\n",
    "    df.to_csv(f'test_data/{symbol}.csv')"
   ]
  }
 ],
 "metadata": {
  "kernelspec": {
   "display_name": "venv",
   "language": "python",
   "name": "python3"
  },
  "language_info": {
   "codemirror_mode": {
    "name": "ipython",
    "version": 3
   },
   "file_extension": ".py",
   "mimetype": "text/x-python",
   "name": "python",
   "nbconvert_exporter": "python",
   "pygments_lexer": "ipython3",
   "version": "3.9.0 (v3.9.0:9cf6752276, Oct  5 2020, 11:29:23) \n[Clang 6.0 (clang-600.0.57)]"
  },
  "orig_nbformat": 4,
  "vscode": {
   "interpreter": {
    "hash": "783a471cf990700b5d7c44fba7b5d3b74008687a7c50ffa90ee3e287e5023d46"
   }
  }
 },
 "nbformat": 4,
 "nbformat_minor": 2
}
